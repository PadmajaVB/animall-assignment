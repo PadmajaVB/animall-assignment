{
 "cells": [
  {
   "cell_type": "code",
   "execution_count": 2,
   "metadata": {},
   "outputs": [],
   "source": [
    "import pandas as pd\n",
    "import numpy as np\n",
    "import math\n",
    "\n",
    "from sklearn.model_selection import cross_validate\n",
    "from sklearn.linear_model import LogisticRegression\n",
    "\n",
    "from sklearn.preprocessing import StandardScaler\n",
    "from sklearn.model_selection import train_test_split\n",
    "from sklearn.metrics import accuracy_score\n",
    "\n",
    "import matplotlib\n",
    "import matplotlib.pyplot as plt\n",
    "import matplotlib.dates as mdates\n",
    "\n",
    "from sklearn.metrics import fbeta_score\n",
    "from sklearn.metrics import precision_score\n",
    "from sklearn.metrics import recall_score\n",
    "\n",
    "from IPython.display import set_matplotlib_formats\n",
    "set_matplotlib_formats('pdf', 'png')\n",
    "\n",
    "from imblearn.over_sampling import SMOTE\n",
    "\n",
    "#Supress warnings and default INFO logging\n",
    "import warnings\n",
    "warnings.filterwarnings('ignore')\n",
    "\n",
    "import logging\n",
    "logger = logging.getLogger()\n",
    "logger.setLevel(logging.CRITICAL)\n",
    "\n",
    "%matplotlib inline\n",
    "\n",
    "\n",
    "import seaborn as sns\n",
    "sns.set()"
   ]
  },
  {
   "cell_type": "code",
   "execution_count": 3,
   "metadata": {},
   "outputs": [],
   "source": [
    "# !pip install imblearn"
   ]
  },
  {
   "cell_type": "code",
   "execution_count": 4,
   "metadata": {},
   "outputs": [],
   "source": [
    "filepath = \"./TrainingSet.csv\"\n",
    "df = pd.read_csv(filepath)"
   ]
  },
  {
   "cell_type": "code",
   "execution_count": 5,
   "metadata": {},
   "outputs": [
    {
     "data": {
      "text/html": [
       "<div>\n",
       "<style scoped>\n",
       "    .dataframe tbody tr th:only-of-type {\n",
       "        vertical-align: middle;\n",
       "    }\n",
       "\n",
       "    .dataframe tbody tr th {\n",
       "        vertical-align: top;\n",
       "    }\n",
       "\n",
       "    .dataframe thead th {\n",
       "        text-align: right;\n",
       "    }\n",
       "</style>\n",
       "<table border=\"1\" class=\"dataframe\">\n",
       "  <thead>\n",
       "    <tr style=\"text-align: right;\">\n",
       "      <th></th>\n",
       "      <th>V1</th>\n",
       "      <th>V2</th>\n",
       "      <th>V3</th>\n",
       "      <th>V4</th>\n",
       "      <th>V5</th>\n",
       "      <th>V6</th>\n",
       "      <th>V7</th>\n",
       "      <th>V8</th>\n",
       "      <th>V9</th>\n",
       "      <th>V10</th>\n",
       "      <th>...</th>\n",
       "      <th>V211</th>\n",
       "      <th>V212</th>\n",
       "      <th>V213</th>\n",
       "      <th>V214</th>\n",
       "      <th>V215</th>\n",
       "      <th>V216</th>\n",
       "      <th>V217</th>\n",
       "      <th>V218</th>\n",
       "      <th>V219</th>\n",
       "      <th>Machine_State</th>\n",
       "    </tr>\n",
       "  </thead>\n",
       "  <tbody>\n",
       "    <tr>\n",
       "      <th>0</th>\n",
       "      <td>NaN</td>\n",
       "      <td>5.135988</td>\n",
       "      <td>5.0000</td>\n",
       "      <td>5.28125</td>\n",
       "      <td>0.058368</td>\n",
       "      <td>2059.53125</td>\n",
       "      <td>0.109375</td>\n",
       "      <td>NaN</td>\n",
       "      <td>5.135988</td>\n",
       "      <td>5.0000</td>\n",
       "      <td>...</td>\n",
       "      <td>0.0</td>\n",
       "      <td>0.0</td>\n",
       "      <td>NaN</td>\n",
       "      <td>0.0</td>\n",
       "      <td>0.0</td>\n",
       "      <td>0.0</td>\n",
       "      <td>0.0</td>\n",
       "      <td>0.0</td>\n",
       "      <td>0.0</td>\n",
       "      <td>Good</td>\n",
       "    </tr>\n",
       "    <tr>\n",
       "      <th>1</th>\n",
       "      <td>NaN</td>\n",
       "      <td>5.908042</td>\n",
       "      <td>5.7500</td>\n",
       "      <td>6.09375</td>\n",
       "      <td>0.063232</td>\n",
       "      <td>2369.12500</td>\n",
       "      <td>0.109375</td>\n",
       "      <td>NaN</td>\n",
       "      <td>5.908042</td>\n",
       "      <td>5.7500</td>\n",
       "      <td>...</td>\n",
       "      <td>0.0</td>\n",
       "      <td>0.0</td>\n",
       "      <td>NaN</td>\n",
       "      <td>0.0</td>\n",
       "      <td>0.0</td>\n",
       "      <td>0.0</td>\n",
       "      <td>0.0</td>\n",
       "      <td>0.0</td>\n",
       "      <td>0.0</td>\n",
       "      <td>Good</td>\n",
       "    </tr>\n",
       "    <tr>\n",
       "      <th>2</th>\n",
       "      <td>0.00000</td>\n",
       "      <td>9.244870</td>\n",
       "      <td>0.1875</td>\n",
       "      <td>13.75000</td>\n",
       "      <td>3.890521</td>\n",
       "      <td>3707.19305</td>\n",
       "      <td>12.912530</td>\n",
       "      <td>0.00000</td>\n",
       "      <td>9.244870</td>\n",
       "      <td>0.1875</td>\n",
       "      <td>...</td>\n",
       "      <td>0.0</td>\n",
       "      <td>0.0</td>\n",
       "      <td>0.0</td>\n",
       "      <td>0.0</td>\n",
       "      <td>0.0</td>\n",
       "      <td>0.0</td>\n",
       "      <td>0.0</td>\n",
       "      <td>0.0</td>\n",
       "      <td>0.0</td>\n",
       "      <td>Good</td>\n",
       "    </tr>\n",
       "    <tr>\n",
       "      <th>3</th>\n",
       "      <td>0.19375</td>\n",
       "      <td>18.247452</td>\n",
       "      <td>1.4375</td>\n",
       "      <td>20.25000</td>\n",
       "      <td>3.328545</td>\n",
       "      <td>7317.22805</td>\n",
       "      <td>14.437520</td>\n",
       "      <td>0.19375</td>\n",
       "      <td>18.247452</td>\n",
       "      <td>1.4375</td>\n",
       "      <td>...</td>\n",
       "      <td>0.0</td>\n",
       "      <td>0.0</td>\n",
       "      <td>0.0</td>\n",
       "      <td>0.0</td>\n",
       "      <td>0.0</td>\n",
       "      <td>0.0</td>\n",
       "      <td>0.0</td>\n",
       "      <td>0.0</td>\n",
       "      <td>0.0</td>\n",
       "      <td>Good</td>\n",
       "    </tr>\n",
       "    <tr>\n",
       "      <th>4</th>\n",
       "      <td>0.19375</td>\n",
       "      <td>21.642090</td>\n",
       "      <td>1.4375</td>\n",
       "      <td>25.59380</td>\n",
       "      <td>6.094741</td>\n",
       "      <td>8678.47815</td>\n",
       "      <td>21.615660</td>\n",
       "      <td>0.19375</td>\n",
       "      <td>21.642090</td>\n",
       "      <td>1.4375</td>\n",
       "      <td>...</td>\n",
       "      <td>0.0</td>\n",
       "      <td>0.0</td>\n",
       "      <td>0.0</td>\n",
       "      <td>0.0</td>\n",
       "      <td>0.0</td>\n",
       "      <td>0.0</td>\n",
       "      <td>0.0</td>\n",
       "      <td>0.0</td>\n",
       "      <td>0.0</td>\n",
       "      <td>Good</td>\n",
       "    </tr>\n",
       "  </tbody>\n",
       "</table>\n",
       "<p>5 rows × 220 columns</p>\n",
       "</div>"
      ],
      "text/plain": [
       "        V1         V2      V3        V4        V5          V6         V7  \\\n",
       "0      NaN   5.135988  5.0000   5.28125  0.058368  2059.53125   0.109375   \n",
       "1      NaN   5.908042  5.7500   6.09375  0.063232  2369.12500   0.109375   \n",
       "2  0.00000   9.244870  0.1875  13.75000  3.890521  3707.19305  12.912530   \n",
       "3  0.19375  18.247452  1.4375  20.25000  3.328545  7317.22805  14.437520   \n",
       "4  0.19375  21.642090  1.4375  25.59380  6.094741  8678.47815  21.615660   \n",
       "\n",
       "        V8         V9     V10  ...  V211  V212  V213  V214  V215  V216  V217  \\\n",
       "0      NaN   5.135988  5.0000  ...   0.0   0.0   NaN   0.0   0.0   0.0   0.0   \n",
       "1      NaN   5.908042  5.7500  ...   0.0   0.0   NaN   0.0   0.0   0.0   0.0   \n",
       "2  0.00000   9.244870  0.1875  ...   0.0   0.0   0.0   0.0   0.0   0.0   0.0   \n",
       "3  0.19375  18.247452  1.4375  ...   0.0   0.0   0.0   0.0   0.0   0.0   0.0   \n",
       "4  0.19375  21.642090  1.4375  ...   0.0   0.0   0.0   0.0   0.0   0.0   0.0   \n",
       "\n",
       "   V218  V219  Machine_State  \n",
       "0   0.0   0.0           Good  \n",
       "1   0.0   0.0           Good  \n",
       "2   0.0   0.0           Good  \n",
       "3   0.0   0.0           Good  \n",
       "4   0.0   0.0           Good  \n",
       "\n",
       "[5 rows x 220 columns]"
      ]
     },
     "execution_count": 5,
     "metadata": {},
     "output_type": "execute_result"
    }
   ],
   "source": [
    "df.head()"
   ]
  },
  {
   "cell_type": "markdown",
   "metadata": {},
   "source": [
    "# Part A: Preprocessing"
   ]
  },
  {
   "cell_type": "code",
   "execution_count": 6,
   "metadata": {},
   "outputs": [],
   "source": [
    "df = df.fillna(0)"
   ]
  },
  {
   "cell_type": "code",
   "execution_count": 7,
   "metadata": {},
   "outputs": [
    {
     "data": {
      "text/plain": [
       "array(['Good', 'Bad', 0], dtype=object)"
      ]
     },
     "execution_count": 7,
     "metadata": {},
     "output_type": "execute_result"
    }
   ],
   "source": [
    "df['Machine_State'].unique()"
   ]
  },
  {
   "cell_type": "code",
   "execution_count": 8,
   "metadata": {},
   "outputs": [],
   "source": [
    "x = pd.DataFrame(df.dtypes).T\n",
    "x.to_csv('./feature_file.csv')"
   ]
  },
  {
   "cell_type": "code",
   "execution_count": 59,
   "metadata": {},
   "outputs": [
    {
     "name": "stdout",
     "output_type": "stream",
     "text": [
      "Total number of data samples belonging to type 0 = 19\n",
      "Total number of data samples belonging to type Good = 3240\n",
      "Total number of data samples belonging to type Bad = 463\n"
     ]
    }
   ],
   "source": [
    "print(\"Total number of data samples belonging to type 0 =\", len(df[df['Machine_State']==0]))\n",
    "print(\"Total number of data samples belonging to type Good =\",len(df[df['Machine_State']=='Good']))\n",
    "print(\"Total number of data samples belonging to type Bad =\",len(df[df['Machine_State']=='Bad']))"
   ]
  },
  {
   "cell_type": "markdown",
   "metadata": {},
   "source": [
    "**Clearly the given data is imbalanced.**"
   ]
  },
  {
   "cell_type": "code",
   "execution_count": 10,
   "metadata": {},
   "outputs": [],
   "source": [
    "# Drop the rows that belong to undefined class\n",
    "data = df[df['Machine_State']!=0]"
   ]
  },
  {
   "cell_type": "code",
   "execution_count": 11,
   "metadata": {},
   "outputs": [
    {
     "data": {
      "text/plain": [
       "array(['Good', 'Bad'], dtype=object)"
      ]
     },
     "execution_count": 11,
     "metadata": {},
     "output_type": "execute_result"
    }
   ],
   "source": [
    "data['Machine_State'].unique()"
   ]
  },
  {
   "cell_type": "code",
   "execution_count": 12,
   "metadata": {},
   "outputs": [],
   "source": [
    "data[\"Machine_State\"].replace({\"Good\": 0, \"Bad\": 1}, inplace=True)"
   ]
  },
  {
   "cell_type": "code",
   "execution_count": 13,
   "metadata": {},
   "outputs": [],
   "source": [
    "data.drop_duplicates(inplace=True)"
   ]
  },
  {
   "cell_type": "code",
   "execution_count": 14,
   "metadata": {},
   "outputs": [
    {
     "data": {
      "text/html": [
       "<div>\n",
       "<style scoped>\n",
       "    .dataframe tbody tr th:only-of-type {\n",
       "        vertical-align: middle;\n",
       "    }\n",
       "\n",
       "    .dataframe tbody tr th {\n",
       "        vertical-align: top;\n",
       "    }\n",
       "\n",
       "    .dataframe thead th {\n",
       "        text-align: right;\n",
       "    }\n",
       "</style>\n",
       "<table border=\"1\" class=\"dataframe\">\n",
       "  <thead>\n",
       "    <tr style=\"text-align: right;\">\n",
       "      <th></th>\n",
       "      <th>V1</th>\n",
       "      <th>V2</th>\n",
       "      <th>V3</th>\n",
       "      <th>V4</th>\n",
       "      <th>V5</th>\n",
       "      <th>V6</th>\n",
       "      <th>V7</th>\n",
       "      <th>V8</th>\n",
       "      <th>V9</th>\n",
       "      <th>V10</th>\n",
       "      <th>...</th>\n",
       "      <th>V211</th>\n",
       "      <th>V212</th>\n",
       "      <th>V213</th>\n",
       "      <th>V214</th>\n",
       "      <th>V215</th>\n",
       "      <th>V216</th>\n",
       "      <th>V217</th>\n",
       "      <th>V218</th>\n",
       "      <th>V219</th>\n",
       "      <th>Machine_State</th>\n",
       "    </tr>\n",
       "  </thead>\n",
       "  <tbody>\n",
       "    <tr>\n",
       "      <th>0</th>\n",
       "      <td>0.00000</td>\n",
       "      <td>5.135988</td>\n",
       "      <td>5.0000</td>\n",
       "      <td>5.28125</td>\n",
       "      <td>0.058368</td>\n",
       "      <td>2059.53125</td>\n",
       "      <td>0.109375</td>\n",
       "      <td>0.00000</td>\n",
       "      <td>5.135988</td>\n",
       "      <td>5.0000</td>\n",
       "      <td>...</td>\n",
       "      <td>0.0</td>\n",
       "      <td>0.0</td>\n",
       "      <td>0.0</td>\n",
       "      <td>0.0</td>\n",
       "      <td>0.0</td>\n",
       "      <td>0.0</td>\n",
       "      <td>0.0</td>\n",
       "      <td>0.0</td>\n",
       "      <td>0.0</td>\n",
       "      <td>0</td>\n",
       "    </tr>\n",
       "    <tr>\n",
       "      <th>1</th>\n",
       "      <td>0.00000</td>\n",
       "      <td>5.908042</td>\n",
       "      <td>5.7500</td>\n",
       "      <td>6.09375</td>\n",
       "      <td>0.063232</td>\n",
       "      <td>2369.12500</td>\n",
       "      <td>0.109375</td>\n",
       "      <td>0.00000</td>\n",
       "      <td>5.908042</td>\n",
       "      <td>5.7500</td>\n",
       "      <td>...</td>\n",
       "      <td>0.0</td>\n",
       "      <td>0.0</td>\n",
       "      <td>0.0</td>\n",
       "      <td>0.0</td>\n",
       "      <td>0.0</td>\n",
       "      <td>0.0</td>\n",
       "      <td>0.0</td>\n",
       "      <td>0.0</td>\n",
       "      <td>0.0</td>\n",
       "      <td>0</td>\n",
       "    </tr>\n",
       "    <tr>\n",
       "      <th>2</th>\n",
       "      <td>0.00000</td>\n",
       "      <td>9.244870</td>\n",
       "      <td>0.1875</td>\n",
       "      <td>13.75000</td>\n",
       "      <td>3.890521</td>\n",
       "      <td>3707.19305</td>\n",
       "      <td>12.912530</td>\n",
       "      <td>0.00000</td>\n",
       "      <td>9.244870</td>\n",
       "      <td>0.1875</td>\n",
       "      <td>...</td>\n",
       "      <td>0.0</td>\n",
       "      <td>0.0</td>\n",
       "      <td>0.0</td>\n",
       "      <td>0.0</td>\n",
       "      <td>0.0</td>\n",
       "      <td>0.0</td>\n",
       "      <td>0.0</td>\n",
       "      <td>0.0</td>\n",
       "      <td>0.0</td>\n",
       "      <td>0</td>\n",
       "    </tr>\n",
       "    <tr>\n",
       "      <th>3</th>\n",
       "      <td>0.19375</td>\n",
       "      <td>18.247452</td>\n",
       "      <td>1.4375</td>\n",
       "      <td>20.25000</td>\n",
       "      <td>3.328545</td>\n",
       "      <td>7317.22805</td>\n",
       "      <td>14.437520</td>\n",
       "      <td>0.19375</td>\n",
       "      <td>18.247452</td>\n",
       "      <td>1.4375</td>\n",
       "      <td>...</td>\n",
       "      <td>0.0</td>\n",
       "      <td>0.0</td>\n",
       "      <td>0.0</td>\n",
       "      <td>0.0</td>\n",
       "      <td>0.0</td>\n",
       "      <td>0.0</td>\n",
       "      <td>0.0</td>\n",
       "      <td>0.0</td>\n",
       "      <td>0.0</td>\n",
       "      <td>0</td>\n",
       "    </tr>\n",
       "    <tr>\n",
       "      <th>4</th>\n",
       "      <td>0.19375</td>\n",
       "      <td>21.642090</td>\n",
       "      <td>1.4375</td>\n",
       "      <td>25.59380</td>\n",
       "      <td>6.094741</td>\n",
       "      <td>8678.47815</td>\n",
       "      <td>21.615660</td>\n",
       "      <td>0.19375</td>\n",
       "      <td>21.642090</td>\n",
       "      <td>1.4375</td>\n",
       "      <td>...</td>\n",
       "      <td>0.0</td>\n",
       "      <td>0.0</td>\n",
       "      <td>0.0</td>\n",
       "      <td>0.0</td>\n",
       "      <td>0.0</td>\n",
       "      <td>0.0</td>\n",
       "      <td>0.0</td>\n",
       "      <td>0.0</td>\n",
       "      <td>0.0</td>\n",
       "      <td>0</td>\n",
       "    </tr>\n",
       "  </tbody>\n",
       "</table>\n",
       "<p>5 rows × 220 columns</p>\n",
       "</div>"
      ],
      "text/plain": [
       "        V1         V2      V3        V4        V5          V6         V7  \\\n",
       "0  0.00000   5.135988  5.0000   5.28125  0.058368  2059.53125   0.109375   \n",
       "1  0.00000   5.908042  5.7500   6.09375  0.063232  2369.12500   0.109375   \n",
       "2  0.00000   9.244870  0.1875  13.75000  3.890521  3707.19305  12.912530   \n",
       "3  0.19375  18.247452  1.4375  20.25000  3.328545  7317.22805  14.437520   \n",
       "4  0.19375  21.642090  1.4375  25.59380  6.094741  8678.47815  21.615660   \n",
       "\n",
       "        V8         V9     V10  ...  V211  V212  V213  V214  V215  V216  V217  \\\n",
       "0  0.00000   5.135988  5.0000  ...   0.0   0.0   0.0   0.0   0.0   0.0   0.0   \n",
       "1  0.00000   5.908042  5.7500  ...   0.0   0.0   0.0   0.0   0.0   0.0   0.0   \n",
       "2  0.00000   9.244870  0.1875  ...   0.0   0.0   0.0   0.0   0.0   0.0   0.0   \n",
       "3  0.19375  18.247452  1.4375  ...   0.0   0.0   0.0   0.0   0.0   0.0   0.0   \n",
       "4  0.19375  21.642090  1.4375  ...   0.0   0.0   0.0   0.0   0.0   0.0   0.0   \n",
       "\n",
       "   V218  V219  Machine_State  \n",
       "0   0.0   0.0              0  \n",
       "1   0.0   0.0              0  \n",
       "2   0.0   0.0              0  \n",
       "3   0.0   0.0              0  \n",
       "4   0.0   0.0              0  \n",
       "\n",
       "[5 rows x 220 columns]"
      ]
     },
     "execution_count": 14,
     "metadata": {},
     "output_type": "execute_result"
    }
   ],
   "source": [
    "data.head()"
   ]
  },
  {
   "cell_type": "code",
   "execution_count": 15,
   "metadata": {},
   "outputs": [],
   "source": [
    "X = data.drop('Machine_State', axis=1)\n",
    "y = data['Machine_State']"
   ]
  },
  {
   "cell_type": "code",
   "execution_count": 16,
   "metadata": {},
   "outputs": [],
   "source": [
    "scaler = StandardScaler()\n",
    "X_scaled = scaler.fit_transform(X)"
   ]
  },
  {
   "cell_type": "markdown",
   "metadata": {},
   "source": [
    "## 1 Upsampling of data"
   ]
  },
  {
   "cell_type": "code",
   "execution_count": 29,
   "metadata": {},
   "outputs": [],
   "source": [
    "# upsampling the data \n",
    "sm = SMOTE(random_state=2)\n",
    "X_up, y_up = sm.fit_sample(X_scaled, y)"
   ]
  },
  {
   "cell_type": "code",
   "execution_count": 64,
   "metadata": {},
   "outputs": [
    {
     "name": "stdout",
     "output_type": "stream",
     "text": [
      "Total number of data samples belonging to type Good = 3229\n",
      "Total number of data samples belonging to type Bad = 3229\n"
     ]
    }
   ],
   "source": [
    "print(\"Total number of data samples belonging to type Good =\",y_up.value_counts()[0])\n",
    "print(\"Total number of data samples belonging to type Bad =\",y_up.value_counts()[1])"
   ]
  },
  {
   "cell_type": "code",
   "execution_count": 31,
   "metadata": {},
   "outputs": [],
   "source": [
    "X_train_up, X_val_up, y_train_up, y_val_up = train_test_split(X_up,y_up,test_size=0.2,random_state=66,shuffle=True)"
   ]
  },
  {
   "cell_type": "markdown",
   "metadata": {},
   "source": [
    "## 2 Random upsampling + downsampling"
   ]
  },
  {
   "cell_type": "code",
   "execution_count": 32,
   "metadata": {},
   "outputs": [],
   "source": [
    "from imblearn.over_sampling import RandomOverSampler\n",
    "from imblearn.under_sampling import RandomUnderSampler\n",
    "from sklearn.feature_selection import SelectKBest\n",
    "from sklearn.feature_selection import f_classif"
   ]
  },
  {
   "cell_type": "code",
   "execution_count": 33,
   "metadata": {},
   "outputs": [],
   "source": [
    "# define oversampling strategy\n",
    "over_sample = RandomOverSampler(sampling_strategy=0.2)\n",
    "X_over, y_over = over_sample.fit_resample(X, y)\n",
    "\n",
    "under_sample = RandomUnderSampler(sampling_strategy=0.5)\n",
    "# fit and apply the transform\n",
    "X_under, y_under = under_sample.fit_resample(X_over, y_over)"
   ]
  },
  {
   "cell_type": "markdown",
   "metadata": {},
   "source": [
    "**Original data distribution**"
   ]
  },
  {
   "cell_type": "code",
   "execution_count": 61,
   "metadata": {},
   "outputs": [
    {
     "name": "stdout",
     "output_type": "stream",
     "text": [
      "Total number of data samples belonging to type Good = 3229\n",
      "Total number of data samples belonging to type Bad = 463\n"
     ]
    }
   ],
   "source": [
    "print(\"Total number of data samples belonging to type Good =\",y.value_counts()[0])\n",
    "print(\"Total number of data samples belonging to type Bad =\",y.value_counts()[1])"
   ]
  },
  {
   "cell_type": "markdown",
   "metadata": {},
   "source": [
    "**Data distritution after random oversampling** "
   ]
  },
  {
   "cell_type": "code",
   "execution_count": 62,
   "metadata": {},
   "outputs": [
    {
     "name": "stdout",
     "output_type": "stream",
     "text": [
      "Total number of data samples belonging to type Good = 3229\n",
      "Total number of data samples belonging to type Bad = 645\n"
     ]
    }
   ],
   "source": [
    "print(\"Total number of data samples belonging to type Good =\",y_over.value_counts()[0])\n",
    "print(\"Total number of data samples belonging to type Bad =\",y_over.value_counts()[1])"
   ]
  },
  {
   "cell_type": "markdown",
   "metadata": {},
   "source": [
    "**Data distritution after random oversampling + random undersampling** "
   ]
  },
  {
   "cell_type": "code",
   "execution_count": 63,
   "metadata": {},
   "outputs": [
    {
     "name": "stdout",
     "output_type": "stream",
     "text": [
      "Total number of data samples belonging to type Good = 1290\n",
      "Total number of data samples belonging to type Bad = 645\n"
     ]
    }
   ],
   "source": [
    "print(\"Total number of data samples belonging to type Good =\",y_under.value_counts()[0])\n",
    "print(\"Total number of data samples belonging to type Bad =\",y_under.value_counts()[1])"
   ]
  },
  {
   "cell_type": "markdown",
   "metadata": {},
   "source": [
    "## 3 Feature selection"
   ]
  },
  {
   "cell_type": "code",
   "execution_count": 37,
   "metadata": {},
   "outputs": [],
   "source": [
    "fs = SelectKBest(score_func=f_classif, k=150)\n",
    "# apply feature selection\n",
    "X_selected = fs.fit_transform(X_under, y_under)"
   ]
  },
  {
   "cell_type": "code",
   "execution_count": 66,
   "metadata": {},
   "outputs": [],
   "source": [
    "# Top 5 features\n",
    "\n",
    "fs_top5 = SelectKBest(score_func=f_classif, k=5)\n",
    "# apply feature selection\n",
    "top5 = fs_top5.fit_transform(X_under, y_under)"
   ]
  },
  {
   "cell_type": "markdown",
   "metadata": {},
   "source": [
    "# Part B: Model selection"
   ]
  },
  {
   "cell_type": "markdown",
   "metadata": {},
   "source": [
    "## 1. Logistic regression"
   ]
  },
  {
   "cell_type": "markdown",
   "metadata": {},
   "source": [
    "### 1.1 With 80-20 split"
   ]
  },
  {
   "cell_type": "code",
   "execution_count": 20,
   "metadata": {},
   "outputs": [],
   "source": [
    "logreg = LogisticRegression(solver='lbfgs', max_iter=10000)\n",
    "\n",
    "logreg.fit(X_train_up,y_train_up)\n",
    "y_val_pred = logreg.predict(X_val_up)"
   ]
  },
  {
   "cell_type": "code",
   "execution_count": 23,
   "metadata": {},
   "outputs": [],
   "source": [
    "def evaluating_metrics(y_val, y_val_pred, model_name):\n",
    "    # In the above case since false negatives have higher penaltly, we need to maximize recall value. \n",
    "    # This can be best measured using F2 score\n",
    "\n",
    "    precision = precision_score(y_val, y_val_pred)\n",
    "    recall = recall_score(y_val, y_val_pred)\n",
    "    f2_score = fbeta_score(y_val, y_val_pred, beta=2.0)\n",
    "    print('Result for %s: precision=%.3f, recall=%.3f, f2_score=%.3f' % (model_name, precision, recall, f2_score))"
   ]
  },
  {
   "cell_type": "code",
   "execution_count": 24,
   "metadata": {},
   "outputs": [
    {
     "name": "stdout",
     "output_type": "stream",
     "text": [
      "Result for Logistic regression: precision=0.828, recall=0.919, f2_score=0.899\n"
     ]
    }
   ],
   "source": [
    "model_name='Logistic regression'\n",
    "evaluating_metrics(y_val_up, y_val_pred, model_name)"
   ]
  },
  {
   "cell_type": "markdown",
   "metadata": {},
   "source": [
    "### 1.2 With cross valication"
   ]
  },
  {
   "cell_type": "code",
   "execution_count": 25,
   "metadata": {},
   "outputs": [],
   "source": [
    "from sklearn.metrics import make_scorer"
   ]
  },
  {
   "cell_type": "code",
   "execution_count": 26,
   "metadata": {},
   "outputs": [],
   "source": [
    "def cross_validation(estimator, X, y, scoring, cv, return_train_score=False):\n",
    "    scores = cross_validate(estimator, X, y, scoring=scoring, cv=cv, return_train_score=return_train_score, n_jobs=-1)\n",
    "    print('Average test f2 score in 10 fold cross validation = %.2f'%(scores['test_f2_score'].mean()))\n",
    "    return scores"
   ]
  },
  {
   "cell_type": "code",
   "execution_count": 27,
   "metadata": {},
   "outputs": [
    {
     "name": "stdout",
     "output_type": "stream",
     "text": [
      "Average test f2 score in 10 fold cross validation = 0.89\n"
     ]
    }
   ],
   "source": [
    "#CV with upsampling\n",
    "scorer  = {'f2_score': make_scorer(fbeta_score, beta=2)}\n",
    "logreg_cv_up = cross_validation(logreg, X_up, y_up, scoring=scorer, cv=10, return_train_score=True)"
   ]
  },
  {
   "cell_type": "markdown",
   "metadata": {},
   "source": [
    "**Just using the upsampled data might overfit the model, since most of the minority class data is repeated hence use random upsampling + downsampling**"
   ]
  },
  {
   "cell_type": "markdown",
   "metadata": {},
   "source": [
    "### 1.3 With random upsample + random downsampled data "
   ]
  },
  {
   "cell_type": "code",
   "execution_count": 40,
   "metadata": {},
   "outputs": [
    {
     "name": "stdout",
     "output_type": "stream",
     "text": [
      "Average test f2 score in 10 fold cross validation = 0.53\n"
     ]
    }
   ],
   "source": [
    "#CV with upsampling\n",
    "logreg_cv_up = cross_validation(logreg, X_under, y_under, scoring=scorer, cv=10, return_train_score=True)"
   ]
  },
  {
   "cell_type": "markdown",
   "metadata": {},
   "source": [
    "### 1.4 With feature selection "
   ]
  },
  {
   "cell_type": "code",
   "execution_count": 41,
   "metadata": {},
   "outputs": [
    {
     "name": "stdout",
     "output_type": "stream",
     "text": [
      "Average test f2 score in 10 fold cross validation = 0.50\n"
     ]
    }
   ],
   "source": [
    "#CV with upsampling\n",
    "logreg_cv_up = cross_validation(logreg, X_selected, y_under, scoring=scorer, cv=10, return_train_score=True)"
   ]
  },
  {
   "cell_type": "markdown",
   "metadata": {},
   "source": [
    "## 2. Random forest"
   ]
  },
  {
   "cell_type": "code",
   "execution_count": 42,
   "metadata": {},
   "outputs": [],
   "source": [
    "from sklearn.ensemble import RandomForestClassifier\n",
    "from imblearn.ensemble import BalancedRandomForestClassifier\n",
    "from sklearn.model_selection import RepeatedStratifiedKFold"
   ]
  },
  {
   "cell_type": "markdown",
   "metadata": {},
   "source": [
    "### 2.1 With 80-20 split"
   ]
  },
  {
   "cell_type": "code",
   "execution_count": 43,
   "metadata": {},
   "outputs": [],
   "source": [
    "rf_model = RandomForestClassifier(n_estimators=100, class_weight='balanced_subsample')\n",
    "rf_model.fit(X_train_up,y_train_up)\n",
    "y_val_pred = rf_model.predict(X_val_up)"
   ]
  },
  {
   "cell_type": "code",
   "execution_count": 44,
   "metadata": {},
   "outputs": [
    {
     "name": "stdout",
     "output_type": "stream",
     "text": [
      "Result for Random Forest: precision=0.977, recall=0.988, f2_score=0.985\n"
     ]
    }
   ],
   "source": [
    "model_name = 'Random Forest'\n",
    "evaluating_metrics(y_val_up, y_val_pred, model_name)"
   ]
  },
  {
   "cell_type": "markdown",
   "metadata": {},
   "source": [
    "### 2.2 With cross validation"
   ]
  },
  {
   "cell_type": "markdown",
   "metadata": {},
   "source": [
    "### i) RandomForestClassifier"
   ]
  },
  {
   "cell_type": "code",
   "execution_count": 47,
   "metadata": {},
   "outputs": [
    {
     "name": "stdout",
     "output_type": "stream",
     "text": [
      "Average test f2 score in 10 fold cross validation = 0.99\n"
     ]
    }
   ],
   "source": [
    "rf_model = RandomForestClassifier(n_estimators=100, class_weight='balanced_subsample')\n",
    "# define evaluation procedure\n",
    "cv = RepeatedStratifiedKFold(n_splits=10, n_repeats=3, random_state=1)\n",
    "\n",
    "# CV with upsampling\n",
    "random_forest_cv = cross_validation(rf_model, X_up, y_up, scoring=scorer, cv=cv)"
   ]
  },
  {
   "cell_type": "markdown",
   "metadata": {},
   "source": [
    "### ii) BalancedRandomForestClassifier"
   ]
  },
  {
   "cell_type": "code",
   "execution_count": 48,
   "metadata": {},
   "outputs": [
    {
     "name": "stdout",
     "output_type": "stream",
     "text": [
      "Average test f2 score in 10 fold cross validation = 0.78\n"
     ]
    }
   ],
   "source": [
    "# Balanced Random forest\n",
    "rf_model_2 = BalancedRandomForestClassifier(n_estimators=100)\n",
    "random_forest_balanced_cv = cross_validation(rf_model_2, X, y, scoring=scorer, cv=cv)"
   ]
  },
  {
   "cell_type": "markdown",
   "metadata": {},
   "source": [
    "**Just using the upsampled data might overfit the model, since most of the minority class data is repeated hence use random upsampling + downsampling**"
   ]
  },
  {
   "cell_type": "markdown",
   "metadata": {},
   "source": [
    "### 2.3 With random upsample + random downsampled data "
   ]
  },
  {
   "cell_type": "code",
   "execution_count": 49,
   "metadata": {},
   "outputs": [
    {
     "name": "stdout",
     "output_type": "stream",
     "text": [
      "Average test f2 score in 10 fold cross validation = 0.86\n"
     ]
    }
   ],
   "source": [
    "# Random forest\n",
    "rf_model = RandomForestClassifier(n_estimators=100, class_weight='balanced_subsample')\n",
    "random_forest_cv = cross_validation(rf_model, X_under, y_under, scoring=scorer, cv=cv)"
   ]
  },
  {
   "cell_type": "code",
   "execution_count": 50,
   "metadata": {},
   "outputs": [
    {
     "name": "stdout",
     "output_type": "stream",
     "text": [
      "Average test f2 score in 10 fold cross validation = 0.92\n"
     ]
    }
   ],
   "source": [
    "# Balanced Random forest\n",
    "rf_model_2 = BalancedRandomForestClassifier(n_estimators=100, class_weight='balanced_subsample')\n",
    "random_forest_balanced_cv = cross_validation(rf_model_2, X_under, y_under, scoring=scorer, cv=cv)"
   ]
  },
  {
   "cell_type": "markdown",
   "metadata": {},
   "source": [
    "### 1.4 With feature selection "
   ]
  },
  {
   "cell_type": "code",
   "execution_count": 51,
   "metadata": {},
   "outputs": [
    {
     "name": "stdout",
     "output_type": "stream",
     "text": [
      "Average test f2 score in 10 fold cross validation = 0.85\n"
     ]
    }
   ],
   "source": [
    "# Random forest\n",
    "rf_model = RandomForestClassifier(n_estimators=100, class_weight='balanced_subsample')\n",
    "random_forest_cv = cross_validation(rf_model, X_selected, y_under, scoring=scorer, cv=cv)"
   ]
  },
  {
   "cell_type": "code",
   "execution_count": 52,
   "metadata": {},
   "outputs": [
    {
     "name": "stdout",
     "output_type": "stream",
     "text": [
      "Average test f2 score in 10 fold cross validation = 0.91\n"
     ]
    }
   ],
   "source": [
    "# Balanced Random forest\n",
    "rf_model_2 = BalancedRandomForestClassifier(n_estimators=100)\n",
    "random_forest_balanced_cv = cross_validation(rf_model_2, X_selected, y_under, scoring=scorer, cv=cv)"
   ]
  },
  {
   "cell_type": "markdown",
   "metadata": {},
   "source": [
    "## 3. Ada Boost"
   ]
  },
  {
   "cell_type": "code",
   "execution_count": 53,
   "metadata": {},
   "outputs": [],
   "source": [
    "from sklearn.ensemble import AdaBoostClassifier, GradientBoostingClassifier"
   ]
  },
  {
   "cell_type": "code",
   "execution_count": 54,
   "metadata": {},
   "outputs": [
    {
     "name": "stdout",
     "output_type": "stream",
     "text": [
      "Average test f2 score in 10 fold cross validation = 0.86\n"
     ]
    }
   ],
   "source": [
    "ad_model = AdaBoostClassifier(n_estimators=1000)\n",
    "ada_boost_cv = cross_validation(ad_model, X_selected, y_under, scoring=scorer, cv=cv)"
   ]
  },
  {
   "cell_type": "markdown",
   "metadata": {},
   "source": [
    "## 4. Gradient Boost"
   ]
  },
  {
   "cell_type": "code",
   "execution_count": 55,
   "metadata": {},
   "outputs": [
    {
     "name": "stdout",
     "output_type": "stream",
     "text": [
      "Average test f2 score in 10 fold cross validation = 0.90\n"
     ]
    }
   ],
   "source": [
    "model_GB = GradientBoostingClassifier(n_estimators=1000)\n",
    "GB_cv = cross_validation(model_GB, X_selected, y_under, scoring=scorer, cv=cv)"
   ]
  },
  {
   "cell_type": "markdown",
   "metadata": {},
   "source": [
    "**Clearly BalancedRandomForestClassifier with selected features seems to be performing the best interms of f2 score and time for training**"
   ]
  },
  {
   "cell_type": "markdown",
   "metadata": {},
   "source": [
    "## TODO\n",
    "1. ~Upsampling + downsampling~ \n",
    "2. ~Feature selection with L1 or t-test~\n",
    "3. ~Standardization of data~ \n",
    "4. Visualize\n",
    "5. ~Try Ada boosting and gradient boosting~\n",
    "6. ~API endpoint~ \n",
    "7. Document \n",
    "8. ~Upload on git~\n",
    "9. What will change in your model if the cost of testing a good device was $5000?\n"
   ]
  },
  {
   "cell_type": "code",
   "execution_count": null,
   "metadata": {},
   "outputs": [],
   "source": []
  }
 ],
 "metadata": {
  "kernelspec": {
   "display_name": "Python 3",
   "language": "python",
   "name": "python3"
  },
  "language_info": {
   "codemirror_mode": {
    "name": "ipython",
    "version": 3
   },
   "file_extension": ".py",
   "mimetype": "text/x-python",
   "name": "python",
   "nbconvert_exporter": "python",
   "pygments_lexer": "ipython3",
   "version": "3.8.0"
  }
 },
 "nbformat": 4,
 "nbformat_minor": 4
}
