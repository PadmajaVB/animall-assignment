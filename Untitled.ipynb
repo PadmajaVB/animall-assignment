{
 cells: [
  {
   cell_type: code,
   execution_count: null,
   metadata: {},
   outputs: [],
   source: [
    import pandas as pd\n,
    import numpy as np
   ]
  },
  {
   cell_type: code,
   execution_count: null,
   metadata: {},
   outputs: [],
   source: [
    filepath = \./TrainingSet.csv\\n,
    df = pd.read_csv(filepath)
   ]
  },
  {
   cell_type: code,
   execution_count: null,
   metadata: {},
   outputs: [],
   source: [
    df = df.fillna(0)
   ]
  },
  {
   cell_type: code,
   execution_count: null,
   metadata: {},
   outputs: [],
   source: [
    # Drop the rows that belong to undefined class\n,
    data = df[df['Machine_State']!=0]
   ]
  },
  {
   cell_type: code,
   execution_count: null,
   metadata: {},
   outputs: [],
   source: [
    data[\Machine_State\].replace({\Good\: 0, \Bad\: 1}, inplace=True)
   ]
  },
  {
   cell_type: code,
   execution_count: null,
   metadata: {},
   outputs: [],
   source: []
  }
 ],
 metadata: {
  kernelspec: {
   display_name: Python 3,
   language: python,
   name: python3
  },
  language_info: {
   codemirror_mode: {
    name: ipython,
    version: 3
   },
   file_extension: .py,
   mimetype: text/x-python,
   name: python,
   nbconvert_exporter: python,
   pygments_lexer: ipython3,
   version: 3.8.0
  }
 },
 nbformat: 4,
 nbformat_minor: 4
}
